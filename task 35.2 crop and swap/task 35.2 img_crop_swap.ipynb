{
 "metadata": {
  "language_info": {
   "codemirror_mode": {
    "name": "ipython",
    "version": 3
   },
   "file_extension": ".py",
   "mimetype": "text/x-python",
   "name": "python",
   "nbconvert_exporter": "python",
   "pygments_lexer": "ipython3",
   "version": "3.8.5"
  },
  "orig_nbformat": 2,
  "kernelspec": {
   "name": "python385jvsc74a57bd0701e116c2a42fd47bda3215bff23943abce5c751cf2e06008f4603087a864962",
   "display_name": "Python 3.8.5 64-bit ('base': conda)"
  }
 },
 "nbformat": 4,
 "nbformat_minor": 2,
 "cells": [
  {
   "cell_type": "code",
   "execution_count": 1,
   "metadata": {},
   "outputs": [],
   "source": [
    "import cv2"
   ]
  },
  {
   "cell_type": "code",
   "execution_count": 2,
   "metadata": {},
   "outputs": [],
   "source": [
    "rose = cv2.imread('yellow_rose.jpg')\n",
    "rose2 = cv2.imread('red_rs.jpg')"
   ]
  },
  {
   "cell_type": "code",
   "execution_count": 3,
   "metadata": {},
   "outputs": [
    {
     "output_type": "stream",
     "name": "stdout",
     "text": [
      "(275, 183, 3)\n"
     ]
    }
   ],
   "source": [
    "dimn= rose.shape\n",
    "print(dimn)"
   ]
  },
  {
   "cell_type": "code",
   "execution_count": 4,
   "metadata": {},
   "outputs": [
    {
     "output_type": "stream",
     "name": "stdout",
     "text": [
      "(607, 910, 3)\n"
     ]
    }
   ],
   "source": [
    "dimn1=rose2.shape\n",
    "print(dimn1)"
   ]
  },
  {
   "cell_type": "code",
   "execution_count": 5,
   "metadata": {},
   "outputs": [],
   "source": [
    "# printing the original Image-1\n",
    "cv2.imshow(\"photo\", rose)\n",
    "cv2.waitKey()\n",
    "cv2.destroyAllWindows()"
   ]
  },
  {
   "cell_type": "code",
   "execution_count": 6,
   "metadata": {},
   "outputs": [],
   "source": [
    "# printing the original Image-2\n",
    "cv2.imshow(\"photo1\", rose2)\n",
    "cv2.waitKey()\n",
    "cv2.destroyAllWindows()"
   ]
  },
  {
   "cell_type": "code",
   "execution_count": 7,
   "metadata": {},
   "outputs": [],
   "source": [
    "# Cordinates of purple_rose\n",
    "yx1 = 30\n",
    "yy1 = 1\n",
    "yx2 = 250\n",
    "yy2 = 200"
   ]
  },
  {
   "cell_type": "code",
   "execution_count": 8,
   "metadata": {},
   "outputs": [],
   "source": [
    "# Crop yellow_rose\n",
    "y_rose = rose[yx1:yx2, yy1:yy2]"
   ]
  },
  {
   "cell_type": "code",
   "execution_count": 9,
   "metadata": {},
   "outputs": [],
   "source": [
    "# Display rose\n",
    "cv2.imshow(\"purple_rs\", y_rose)\n",
    "cv2.waitKey()\n",
    "cv2.destroyAllWindows()"
   ]
  },
  {
   "cell_type": "code",
   "execution_count": 10,
   "metadata": {},
   "outputs": [],
   "source": [
    "# Cordinates of rrd_rose\n",
    "rx1 = 380\n",
    "ry1 = 478\n",
    "rx2 = 600\n",
    "ry2 = 660\n",
    "# Crop red_rose\n",
    "r_rose = rose2[rx1:rx2, ry1:ry2]"
   ]
  },
  {
   "cell_type": "code",
   "execution_count": 11,
   "metadata": {},
   "outputs": [],
   "source": [
    "# Display red_rose\n",
    "cv2.imshow(\"red_rs\", r_rose)\n",
    "cv2.waitKey()\n",
    "cv2.destroyAllWindows()"
   ]
  },
  {
   "cell_type": "code",
   "execution_count": 12,
   "metadata": {},
   "outputs": [
    {
     "output_type": "stream",
     "name": "stdout",
     "text": [
      "(220, 182, 3)\n(220, 182, 3)\n"
     ]
    }
   ],
   "source": [
    "print(y_rose.shape)\n",
    "print(r_rose.shape)"
   ]
  },
  {
   "cell_type": "code",
   "execution_count": 13,
   "metadata": {},
   "outputs": [],
   "source": [
    "# swap red_rose with yellow\n",
    "rose = cv2.imread('red_rs.jpg')\n",
    "rose[rx1:rx2, ry1:ry2] = y_rose"
   ]
  },
  {
   "cell_type": "code",
   "execution_count": 14,
   "metadata": {},
   "outputs": [],
   "source": [
    "# Display swapped image\n",
    "cv2.imshow(\"yellow_rose\", rose)\n",
    "cv2.waitKey()\n",
    "cv2.destroyAllWindows()"
   ]
  },
  {
   "cell_type": "code",
   "execution_count": 15,
   "metadata": {},
   "outputs": [],
   "source": [
    "# swap yellow_rose with red\n",
    "rose = cv2.imread('yellow_rose.jpg')\n",
    "rose[yx1:yx2, yy1:yy2] = r_rose"
   ]
  },
  {
   "cell_type": "code",
   "execution_count": 16,
   "metadata": {},
   "outputs": [],
   "source": [
    "# Display swapped image\n",
    "cv2.imshow(\"red_rose\", rose)\n",
    "cv2.waitKey()\n",
    "cv2.destroyAllWindows()"
   ]
  },
  {
   "cell_type": "code",
   "execution_count": null,
   "metadata": {},
   "outputs": [],
   "source": []
  }
 ]
}